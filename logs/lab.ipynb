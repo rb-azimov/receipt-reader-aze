{
 "cells": [
  {
   "cell_type": "code",
   "execution_count": 12,
   "metadata": {},
   "outputs": [],
   "source": [
    "import os\n",
    "import pandas as pd\n",
    "\n",
    "file_name = 'receipts_v.1.0.0/ALL.txt'\n",
    "\n",
    "with open(file_name, mode = 'r') as file:\n",
    "    lines = file.readlines()\n",
    "\n",
    "def find_first_found_index(lines):\n",
    "    for i in range(len(lines)):\n",
    "        if '<< Receipts >>' in lines[i]:\n",
    "            return i\n",
    "    \n",
    "    return None\n",
    "\n",
    "def find_last_found_index(lines):\n",
    "    for i in range(-len(lines), -1, -1):\n",
    "        if '<< Receipts >>' in lines[i]:\n",
    "            return i\n",
    "    \n",
    "    return None\n",
    "\n",
    "\n",
    "lines = lines[find_first_found_index(lines)+1:]"
   ]
  },
  {
   "cell_type": "code",
   "execution_count": 14,
   "metadata": {},
   "outputs": [],
   "source": [
    "def split_list_on_newline(strings):\n",
    "    result = []\n",
    "    temp = []\n",
    "    for s in strings:\n",
    "        if s == \"\\n\":\n",
    "            if temp:  # Add the current sublist if it's not empty\n",
    "                result.append(temp)\n",
    "            temp = []  # Start a new sublist\n",
    "        else:\n",
    "            temp.append(s)\n",
    "    if temp:  # Add the last sublist if it's not empty\n",
    "        result.append(temp)\n",
    "    return result\n",
    "\n",
    "receipts = split_list_on_newline(lines)"
   ]
  },
  {
   "cell_type": "code",
   "execution_count": 15,
   "metadata": {},
   "outputs": [],
   "source": [
    "tag = '__________________________________________________'\n",
    "receipts_new = []\n",
    "for receipt in receipts:\n",
    "    "
   ]
  },
  {
   "cell_type": "code",
   "execution_count": null,
   "metadata": {},
   "outputs": [],
   "source": []
  },
  {
   "cell_type": "code",
   "execution_count": null,
   "metadata": {},
   "outputs": [],
   "source": []
  },
  {
   "cell_type": "code",
   "execution_count": null,
   "metadata": {},
   "outputs": [],
   "source": []
  }
 ],
 "metadata": {
  "kernelspec": {
   "display_name": "base",
   "language": "python",
   "name": "python3"
  },
  "language_info": {
   "codemirror_mode": {
    "name": "ipython",
    "version": 3
   },
   "file_extension": ".py",
   "mimetype": "text/x-python",
   "name": "python",
   "nbconvert_exporter": "python",
   "pygments_lexer": "ipython3",
   "version": "3.12.4"
  }
 },
 "nbformat": 4,
 "nbformat_minor": 2
}
